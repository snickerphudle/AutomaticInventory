{
  "nbformat": 4,
  "nbformat_minor": 0,
  "metadata": {
    "colab": {
      "name": "Anvil Code.ipynb",
      "provenance": [],
      "authorship_tag": "ABX9TyN5g7CM2r0c1LbsH5NNqgeG",
      "include_colab_link": true
    },
    "kernelspec": {
      "name": "python3",
      "display_name": "Python 3"
    },
    "language_info": {
      "name": "python"
    }
  },
  "cells": [
    {
      "cell_type": "markdown",
      "metadata": {
        "id": "view-in-github",
        "colab_type": "text"
      },
      "source": [
        "<a href=\"https://colab.research.google.com/github/sandalis05/Novelty-by-Newron/blob/main/Anvil_Code.ipynb\" target=\"_parent\"><img src=\"https://colab.research.google.com/assets/colab-badge.svg\" alt=\"Open In Colab\"/></a>"
      ]
    },
    {
      "cell_type": "code",
      "metadata": {
        "id": "18uV7o7z5iQg"
      },
      "source": [
        "from ._anvil_designer import Form1Template\n",
        "from anvil import *\n",
        "import anvil.server\n",
        "\n",
        "#import tensorflow_hub as hub\n",
        "\n",
        "#module_handle = \"https://tfhub.dev/google/faster_rcnn/openimages_v4/inception_resnet_v2/1\"\n",
        "#detector = hub.load(module_handle).signatures['default']\n",
        "\n",
        "class Form1(Form1Template):\n",
        "\n",
        "  def __init__(self, **properties):\n",
        "    # Set Form properties and Data Bindings.\n",
        "    self.init_components(**properties)\n",
        "    # Any code you write here will run when the form opens.\n",
        "\n",
        "  def file_loader_1_change(self, file, **event_args):\n",
        "    self.image_2.source = self.file_loader_1.file\n",
        "    \n",
        "  def categorise_button_click(self, **event_args):\n",
        "    \"\"\"This method is called when the button is clicked\"\"\"\n",
        "    # Call the google colab function and pass it the iris measurements\n",
        "    iris_category = anvil.server.call('detect_img', \n",
        "                                self.file_path)\n",
        "    \n",
        "  def add_to_inv_1_click(self, **event_args):\n",
        "    inv = anvil.server.call('return_inv', self.add_inv)\n",
        " "
      ],
      "execution_count": null,
      "outputs": []
    }
  ]
}